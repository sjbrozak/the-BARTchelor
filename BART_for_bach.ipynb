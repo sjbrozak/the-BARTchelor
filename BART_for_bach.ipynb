{
 "cells": [
  {
   "cell_type": "code",
   "execution_count": 1,
   "metadata": {},
   "outputs": [
    {
     "ename": "AttributeError",
     "evalue": "module 'numpy.__config__' has no attribute 'get_info'",
     "output_type": "error",
     "traceback": [
      "\u001b[0;31m---------------------------------------------------------------------------\u001b[0m",
      "\u001b[0;31mNoSectionError\u001b[0m                            Traceback (most recent call last)",
      "File \u001b[0;32m~/miniconda3/envs/bart/lib/python3.10/site-packages/pytensor/configparser.py:201\u001b[0m, in \u001b[0;36mPyTensorConfigParser.fetch_val_for_key\u001b[0;34m(self, key, delete_key)\u001b[0m\n\u001b[1;32m    200\u001b[0m \u001b[39mtry\u001b[39;00m:\n\u001b[0;32m--> 201\u001b[0m     \u001b[39mreturn\u001b[39;00m \u001b[39mself\u001b[39;49m\u001b[39m.\u001b[39;49m_pytensor_cfg\u001b[39m.\u001b[39;49mget(section, option)\n\u001b[1;32m    202\u001b[0m \u001b[39mexcept\u001b[39;00m InterpolationError:\n",
      "File \u001b[0;32m~/miniconda3/envs/bart/lib/python3.10/configparser.py:783\u001b[0m, in \u001b[0;36mRawConfigParser.get\u001b[0;34m(self, section, option, raw, vars, fallback)\u001b[0m\n\u001b[1;32m    782\u001b[0m \u001b[39mtry\u001b[39;00m:\n\u001b[0;32m--> 783\u001b[0m     d \u001b[39m=\u001b[39m \u001b[39mself\u001b[39;49m\u001b[39m.\u001b[39;49m_unify_values(section, \u001b[39mvars\u001b[39;49m)\n\u001b[1;32m    784\u001b[0m \u001b[39mexcept\u001b[39;00m NoSectionError:\n",
      "File \u001b[0;32m~/miniconda3/envs/bart/lib/python3.10/configparser.py:1154\u001b[0m, in \u001b[0;36mRawConfigParser._unify_values\u001b[0;34m(self, section, vars)\u001b[0m\n\u001b[1;32m   1153\u001b[0m     \u001b[39mif\u001b[39;00m section \u001b[39m!=\u001b[39m \u001b[39mself\u001b[39m\u001b[39m.\u001b[39mdefault_section:\n\u001b[0;32m-> 1154\u001b[0m         \u001b[39mraise\u001b[39;00m NoSectionError(section) \u001b[39mfrom\u001b[39;00m\u001b[39m \u001b[39m\u001b[39mNone\u001b[39;00m\n\u001b[1;32m   1155\u001b[0m \u001b[39m# Update with the entry specific variables\u001b[39;00m\n",
      "\u001b[0;31mNoSectionError\u001b[0m: No section: 'blas'",
      "\nDuring handling of the above exception, another exception occurred:\n",
      "\u001b[0;31mKeyError\u001b[0m                                  Traceback (most recent call last)",
      "File \u001b[0;32m~/miniconda3/envs/bart/lib/python3.10/site-packages/pytensor/configparser.py:317\u001b[0m, in \u001b[0;36mConfigParam.__get__\u001b[0;34m(self, cls, type_, delete_key)\u001b[0m\n\u001b[1;32m    316\u001b[0m \u001b[39mtry\u001b[39;00m:\n\u001b[0;32m--> 317\u001b[0m     val_str \u001b[39m=\u001b[39m \u001b[39mcls\u001b[39;49m\u001b[39m.\u001b[39;49mfetch_val_for_key(\u001b[39mself\u001b[39;49m\u001b[39m.\u001b[39;49mname, delete_key\u001b[39m=\u001b[39;49mdelete_key)\n\u001b[1;32m    318\u001b[0m     \u001b[39mself\u001b[39m\u001b[39m.\u001b[39mis_default \u001b[39m=\u001b[39m \u001b[39mFalse\u001b[39;00m\n",
      "File \u001b[0;32m~/miniconda3/envs/bart/lib/python3.10/site-packages/pytensor/configparser.py:205\u001b[0m, in \u001b[0;36mPyTensorConfigParser.fetch_val_for_key\u001b[0;34m(self, key, delete_key)\u001b[0m\n\u001b[1;32m    204\u001b[0m \u001b[39mexcept\u001b[39;00m (NoOptionError, NoSectionError):\n\u001b[0;32m--> 205\u001b[0m     \u001b[39mraise\u001b[39;00m \u001b[39mKeyError\u001b[39;00m(key)\n",
      "\u001b[0;31mKeyError\u001b[0m: 'blas__ldflags'",
      "\nDuring handling of the above exception, another exception occurred:\n",
      "\u001b[0;31mAttributeError\u001b[0m                            Traceback (most recent call last)",
      "Cell \u001b[0;32mIn[1], line 8\u001b[0m\n\u001b[1;32m      6\u001b[0m \u001b[39mimport\u001b[39;00m\u001b[39m \u001b[39m\u001b[39mnumpy\u001b[39;00m\u001b[39m \u001b[39m\u001b[39mas\u001b[39;00m\u001b[39m \u001b[39m\u001b[39mnp\u001b[39;00m\n\u001b[1;32m      7\u001b[0m \u001b[39mimport\u001b[39;00m\u001b[39m \u001b[39m\u001b[39mpandas\u001b[39;00m\u001b[39m \u001b[39m\u001b[39mas\u001b[39;00m\u001b[39m \u001b[39m\u001b[39mpd\u001b[39;00m\n\u001b[0;32m----> 8\u001b[0m \u001b[39mimport\u001b[39;00m\u001b[39m \u001b[39m\u001b[39mpymc\u001b[39;00m\u001b[39m \u001b[39m\u001b[39mas\u001b[39;00m\u001b[39m \u001b[39m\u001b[39mpm\u001b[39;00m\n\u001b[1;32m      9\u001b[0m \u001b[39mimport\u001b[39;00m\u001b[39m \u001b[39m\u001b[39mpymc_bart\u001b[39;00m\u001b[39m \u001b[39m\u001b[39mas\u001b[39;00m\u001b[39m \u001b[39m\u001b[39mpmb\u001b[39;00m\n\u001b[1;32m     10\u001b[0m \u001b[39mimport\u001b[39;00m\u001b[39m \u001b[39m\u001b[39mseaborn\u001b[39;00m\u001b[39m \u001b[39m\u001b[39mas\u001b[39;00m\u001b[39m \u001b[39m\u001b[39msns\u001b[39;00m\n",
      "File \u001b[0;32m~/miniconda3/envs/bart/lib/python3.10/site-packages/pymc/__init__.py:47\u001b[0m\n\u001b[1;32m     42\u001b[0m     augmented \u001b[39m=\u001b[39m \u001b[39mf\u001b[39m\u001b[39m\"\u001b[39m\u001b[39m{\u001b[39;00maugmented\u001b[39m}\u001b[39;00m\u001b[39m -fno-unwind-tables -fno-asynchronous-unwind-tables\u001b[39m\u001b[39m\"\u001b[39m\n\u001b[1;32m     44\u001b[0m     pytensor\u001b[39m.\u001b[39mconfig\u001b[39m.\u001b[39mgcc__cxxflags \u001b[39m=\u001b[39m augmented\n\u001b[0;32m---> 47\u001b[0m __set_compiler_flags()\n\u001b[1;32m     49\u001b[0m \u001b[39mfrom\u001b[39;00m\u001b[39m \u001b[39m\u001b[39mpymc\u001b[39;00m\u001b[39m \u001b[39m\u001b[39mimport\u001b[39;00m _version, gp, ode, sampling\n\u001b[1;32m     50\u001b[0m \u001b[39mfrom\u001b[39;00m\u001b[39m \u001b[39m\u001b[39mpymc\u001b[39;00m\u001b[39m.\u001b[39;00m\u001b[39mbackends\u001b[39;00m\u001b[39m \u001b[39m\u001b[39mimport\u001b[39;00m \u001b[39m*\u001b[39m\n",
      "File \u001b[0;32m~/miniconda3/envs/bart/lib/python3.10/site-packages/pymc/__init__.py:30\u001b[0m, in \u001b[0;36m__set_compiler_flags\u001b[0;34m()\u001b[0m\n\u001b[1;32m     28\u001b[0m \u001b[39mdef\u001b[39;00m\u001b[39m \u001b[39m\u001b[39m__set_compiler_flags\u001b[39m():\n\u001b[1;32m     29\u001b[0m     \u001b[39m# Workarounds for PyTensor compiler problems on various platforms\u001b[39;00m\n\u001b[0;32m---> 30\u001b[0m     \u001b[39mimport\u001b[39;00m\u001b[39m \u001b[39m\u001b[39mpytensor\u001b[39;00m\n\u001b[1;32m     32\u001b[0m     current \u001b[39m=\u001b[39m pytensor\u001b[39m.\u001b[39mconfig\u001b[39m.\u001b[39mgcc__cxxflags\n\u001b[1;32m     33\u001b[0m     augmented \u001b[39m=\u001b[39m \u001b[39mf\u001b[39m\u001b[39m\"\u001b[39m\u001b[39m{\u001b[39;00mcurrent\u001b[39m}\u001b[39;00m\u001b[39m -Wno-c++11-narrowing\u001b[39m\u001b[39m\"\u001b[39m\n",
      "File \u001b[0;32m~/miniconda3/envs/bart/lib/python3.10/site-packages/pytensor/__init__.py:119\u001b[0m\n\u001b[1;32m    115\u001b[0m     \u001b[39mreturn\u001b[39;00m as_tensor_variable(x, \u001b[39m*\u001b[39m\u001b[39m*\u001b[39mkwargs)\n\u001b[1;32m    118\u001b[0m \u001b[39m# isort: off\u001b[39;00m\n\u001b[0;32m--> 119\u001b[0m \u001b[39mfrom\u001b[39;00m\u001b[39m \u001b[39m\u001b[39mpytensor\u001b[39;00m\u001b[39m \u001b[39m\u001b[39mimport\u001b[39;00m scalar, tensor\n\u001b[1;32m    120\u001b[0m \u001b[39mfrom\u001b[39;00m\u001b[39m \u001b[39m\u001b[39mpytensor\u001b[39;00m\u001b[39m.\u001b[39;00m\u001b[39mcompile\u001b[39;00m\u001b[39m \u001b[39m\u001b[39mimport\u001b[39;00m (\n\u001b[1;32m    121\u001b[0m     In,\n\u001b[1;32m    122\u001b[0m     Mode,\n\u001b[0;32m   (...)\u001b[0m\n\u001b[1;32m    128\u001b[0m     shared,\n\u001b[1;32m    129\u001b[0m )\n\u001b[1;32m    130\u001b[0m \u001b[39mfrom\u001b[39;00m\u001b[39m \u001b[39m\u001b[39mpytensor\u001b[39;00m\u001b[39m.\u001b[39;00m\u001b[39mcompile\u001b[39;00m\u001b[39m.\u001b[39;00m\u001b[39mfunction\u001b[39;00m\u001b[39m \u001b[39m\u001b[39mimport\u001b[39;00m function, function_dump\n",
      "File \u001b[0;32m~/miniconda3/envs/bart/lib/python3.10/site-packages/pytensor/tensor/__init__.py:106\u001b[0m\n\u001b[1;32m    104\u001b[0m \u001b[39m# adds shared-variable constructors\u001b[39;00m\n\u001b[1;32m    105\u001b[0m \u001b[39mfrom\u001b[39;00m\u001b[39m \u001b[39m\u001b[39mpytensor\u001b[39;00m\u001b[39m.\u001b[39;00m\u001b[39mtensor\u001b[39;00m\u001b[39m \u001b[39m\u001b[39mimport\u001b[39;00m sharedvar  \u001b[39m# noqa\u001b[39;00m\n\u001b[0;32m--> 106\u001b[0m \u001b[39mfrom\u001b[39;00m\u001b[39m \u001b[39m\u001b[39mpytensor\u001b[39;00m\u001b[39m.\u001b[39;00m\u001b[39mtensor\u001b[39;00m\u001b[39m \u001b[39m\u001b[39mimport\u001b[39;00m (  \u001b[39m# noqa\u001b[39;00m\n\u001b[1;32m    107\u001b[0m     blas,\n\u001b[1;32m    108\u001b[0m     blas_c,\n\u001b[1;32m    109\u001b[0m     blas_scipy,\n\u001b[1;32m    110\u001b[0m     xlogx,\n\u001b[1;32m    111\u001b[0m )\n\u001b[1;32m    112\u001b[0m \u001b[39mimport\u001b[39;00m\u001b[39m \u001b[39m\u001b[39mpytensor\u001b[39;00m\u001b[39m.\u001b[39;00m\u001b[39mtensor\u001b[39;00m\u001b[39m.\u001b[39;00m\u001b[39mrewriting\u001b[39;00m\n\u001b[1;32m    115\u001b[0m \u001b[39m# isort: off\u001b[39;00m\n",
      "File \u001b[0;32m~/miniconda3/envs/bart/lib/python3.10/site-packages/pytensor/tensor/blas.py:102\u001b[0m\n\u001b[1;32m    100\u001b[0m \u001b[39mfrom\u001b[39;00m\u001b[39m \u001b[39m\u001b[39mpytensor\u001b[39;00m\u001b[39m.\u001b[39;00m\u001b[39mscalar\u001b[39;00m\u001b[39m \u001b[39m\u001b[39mimport\u001b[39;00m \u001b[39mbool\u001b[39m \u001b[39mas\u001b[39;00m bool_t\n\u001b[1;32m    101\u001b[0m \u001b[39mfrom\u001b[39;00m\u001b[39m \u001b[39m\u001b[39mpytensor\u001b[39;00m\u001b[39m.\u001b[39;00m\u001b[39mtensor\u001b[39;00m\u001b[39m \u001b[39m\u001b[39mimport\u001b[39;00m basic \u001b[39mas\u001b[39;00m at\n\u001b[0;32m--> 102\u001b[0m \u001b[39mfrom\u001b[39;00m\u001b[39m \u001b[39m\u001b[39mpytensor\u001b[39;00m\u001b[39m.\u001b[39;00m\u001b[39mtensor\u001b[39;00m\u001b[39m.\u001b[39;00m\u001b[39mblas_headers\u001b[39;00m\u001b[39m \u001b[39m\u001b[39mimport\u001b[39;00m blas_header_text, blas_header_version\n\u001b[1;32m    103\u001b[0m \u001b[39mfrom\u001b[39;00m\u001b[39m \u001b[39m\u001b[39mpytensor\u001b[39;00m\u001b[39m.\u001b[39;00m\u001b[39mtensor\u001b[39;00m\u001b[39m.\u001b[39;00m\u001b[39melemwise\u001b[39;00m\u001b[39m \u001b[39m\u001b[39mimport\u001b[39;00m DimShuffle\n\u001b[1;32m    104\u001b[0m \u001b[39mfrom\u001b[39;00m\u001b[39m \u001b[39m\u001b[39mpytensor\u001b[39;00m\u001b[39m.\u001b[39;00m\u001b[39mtensor\u001b[39;00m\u001b[39m.\u001b[39;00m\u001b[39mmath\u001b[39;00m\u001b[39m \u001b[39m\u001b[39mimport\u001b[39;00m add, mul, neg, sub\n",
      "File \u001b[0;32m~/miniconda3/envs/bart/lib/python3.10/site-packages/pytensor/tensor/blas_headers.py:1015\u001b[0m\n\u001b[1;32m    997\u001b[0m             header \u001b[39m+\u001b[39m\u001b[39m=\u001b[39m textwrap\u001b[39m.\u001b[39mdedent(\n\u001b[1;32m    998\u001b[0m \u001b[39m                \u001b[39m\u001b[39m\"\"\"\\\u001b[39;00m\n\u001b[1;32m    999\u001b[0m \u001b[39m                    static float sdot_(int* Nx, float* x, int* Sx, float* y, int* Sy)\u001b[39;00m\n\u001b[0;32m   (...)\u001b[0m\n\u001b[1;32m   1009\u001b[0m \u001b[39m                    \"\"\"\u001b[39;00m\n\u001b[1;32m   1010\u001b[0m             )\n\u001b[1;32m   1012\u001b[0m     \u001b[39mreturn\u001b[39;00m header \u001b[39m+\u001b[39m blas_code\n\u001b[0;32m-> 1015\u001b[0m \u001b[39mif\u001b[39;00m \u001b[39mnot\u001b[39;00m config\u001b[39m.\u001b[39;49mblas__ldflags:\n\u001b[1;32m   1016\u001b[0m     _logger\u001b[39m.\u001b[39mwarning(\u001b[39m\"\u001b[39m\u001b[39mUsing NumPy C-API based implementation for BLAS functions.\u001b[39m\u001b[39m\"\u001b[39m)\n\u001b[1;32m   1019\u001b[0m \u001b[39mdef\u001b[39;00m\u001b[39m \u001b[39m\u001b[39mmkl_threads_text\u001b[39m():\n",
      "File \u001b[0;32m~/miniconda3/envs/bart/lib/python3.10/site-packages/pytensor/configparser.py:321\u001b[0m, in \u001b[0;36mConfigParam.__get__\u001b[0;34m(self, cls, type_, delete_key)\u001b[0m\n\u001b[1;32m    319\u001b[0m \u001b[39mexcept\u001b[39;00m \u001b[39mKeyError\u001b[39;00m:\n\u001b[1;32m    320\u001b[0m     \u001b[39mif\u001b[39;00m \u001b[39mcallable\u001b[39m(\u001b[39mself\u001b[39m\u001b[39m.\u001b[39mdefault):\n\u001b[0;32m--> 321\u001b[0m         val_str \u001b[39m=\u001b[39m \u001b[39mself\u001b[39;49m\u001b[39m.\u001b[39;49mdefault()\n\u001b[1;32m    322\u001b[0m     \u001b[39melse\u001b[39;00m:\n\u001b[1;32m    323\u001b[0m         val_str \u001b[39m=\u001b[39m \u001b[39mself\u001b[39m\u001b[39m.\u001b[39mdefault\n",
      "File \u001b[0;32m~/miniconda3/envs/bart/lib/python3.10/site-packages/pytensor/link/c/cmodule.py:2720\u001b[0m, in \u001b[0;36mdefault_blas_ldflags\u001b[0;34m()\u001b[0m\n\u001b[1;32m   2718\u001b[0m warn_record \u001b[39m=\u001b[39m []\n\u001b[1;32m   2719\u001b[0m \u001b[39mtry\u001b[39;00m:\n\u001b[0;32m-> 2720\u001b[0m     blas_info \u001b[39m=\u001b[39m np\u001b[39m.\u001b[39;49m__config__\u001b[39m.\u001b[39;49mget_info(\u001b[39m\"\u001b[39m\u001b[39mblas_opt\u001b[39m\u001b[39m\"\u001b[39m)\n\u001b[1;32m   2722\u001b[0m     \u001b[39m# If we are in a EPD installation, mkl is available\u001b[39;00m\n\u001b[1;32m   2723\u001b[0m     \u001b[39mif\u001b[39;00m \u001b[39m\"\u001b[39m\u001b[39mEPD\u001b[39m\u001b[39m\"\u001b[39m \u001b[39min\u001b[39;00m sys\u001b[39m.\u001b[39mversion:\n",
      "\u001b[0;31mAttributeError\u001b[0m: module 'numpy.__config__' has no attribute 'get_info'"
     ]
    }
   ],
   "source": [
    "import os\n",
    "import warnings\n",
    "\n",
    "import arviz as az\n",
    "import matplotlib.pyplot as plt\n",
    "import numpy as np\n",
    "import pandas as pd\n",
    "import pymc as pm\n",
    "import pymc_bart as pmb\n",
    "import seaborn as sns"
   ]
  }
 ],
 "metadata": {
  "kernelspec": {
   "display_name": "bart",
   "language": "python",
   "name": "python3"
  },
  "language_info": {
   "codemirror_mode": {
    "name": "ipython",
    "version": 3
   },
   "file_extension": ".py",
   "mimetype": "text/x-python",
   "name": "python",
   "nbconvert_exporter": "python",
   "pygments_lexer": "ipython3",
   "version": "3.10.16"
  },
  "orig_nbformat": 4
 },
 "nbformat": 4,
 "nbformat_minor": 2
}
